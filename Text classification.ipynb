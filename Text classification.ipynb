{
 "cells": [
  {
   "cell_type": "code",
   "execution_count": 1,
   "metadata": {},
   "outputs": [],
   "source": [
    "import numpy as np\n",
    "import pandas as pd\n",
    "from sklearn.feature_extraction.text import CountVectorizer\n",
    "import nltk as nlp\n",
    "import string\n",
    "import re\n",
    "from sklearn.model_selection import train_test_split\n",
    "from sklearn.linear_model import LogisticRegression\n",
    "from sklearn.metrics import confusion_matrix\n",
    "import seaborn as sns\n",
    "from sklearn.metrics import accuracy_score"
   ]
  },
  {
   "cell_type": "code",
   "execution_count": 2,
   "metadata": {},
   "outputs": [
    {
     "data": {
      "text/html": [
       "<div>\n",
       "<style scoped>\n",
       "    .dataframe tbody tr th:only-of-type {\n",
       "        vertical-align: middle;\n",
       "    }\n",
       "\n",
       "    .dataframe tbody tr th {\n",
       "        vertical-align: top;\n",
       "    }\n",
       "\n",
       "    .dataframe thead th {\n",
       "        text-align: right;\n",
       "    }\n",
       "</style>\n",
       "<table border=\"1\" class=\"dataframe\">\n",
       "  <thead>\n",
       "    <tr style=\"text-align: right;\">\n",
       "      <th></th>\n",
       "      <th>title</th>\n",
       "      <th>text</th>\n",
       "      <th>subject</th>\n",
       "      <th>date</th>\n",
       "    </tr>\n",
       "  </thead>\n",
       "  <tbody>\n",
       "    <tr>\n",
       "      <td>0</td>\n",
       "      <td>As U.S. budget fight looms, Republicans flip t...</td>\n",
       "      <td>WASHINGTON (Reuters) - The head of a conservat...</td>\n",
       "      <td>politicsNews</td>\n",
       "      <td>December 31, 2017</td>\n",
       "    </tr>\n",
       "    <tr>\n",
       "      <td>1</td>\n",
       "      <td>U.S. military to accept transgender recruits o...</td>\n",
       "      <td>WASHINGTON (Reuters) - Transgender people will...</td>\n",
       "      <td>politicsNews</td>\n",
       "      <td>December 29, 2017</td>\n",
       "    </tr>\n",
       "    <tr>\n",
       "      <td>2</td>\n",
       "      <td>Senior U.S. Republican senator: 'Let Mr. Muell...</td>\n",
       "      <td>WASHINGTON (Reuters) - The special counsel inv...</td>\n",
       "      <td>politicsNews</td>\n",
       "      <td>December 31, 2017</td>\n",
       "    </tr>\n",
       "    <tr>\n",
       "      <td>3</td>\n",
       "      <td>FBI Russia probe helped by Australian diplomat...</td>\n",
       "      <td>WASHINGTON (Reuters) - Trump campaign adviser ...</td>\n",
       "      <td>politicsNews</td>\n",
       "      <td>December 30, 2017</td>\n",
       "    </tr>\n",
       "    <tr>\n",
       "      <td>4</td>\n",
       "      <td>Trump wants Postal Service to charge 'much mor...</td>\n",
       "      <td>SEATTLE/WASHINGTON (Reuters) - President Donal...</td>\n",
       "      <td>politicsNews</td>\n",
       "      <td>December 29, 2017</td>\n",
       "    </tr>\n",
       "  </tbody>\n",
       "</table>\n",
       "</div>"
      ],
      "text/plain": [
       "                                               title  \\\n",
       "0  As U.S. budget fight looms, Republicans flip t...   \n",
       "1  U.S. military to accept transgender recruits o...   \n",
       "2  Senior U.S. Republican senator: 'Let Mr. Muell...   \n",
       "3  FBI Russia probe helped by Australian diplomat...   \n",
       "4  Trump wants Postal Service to charge 'much mor...   \n",
       "\n",
       "                                                text       subject  \\\n",
       "0  WASHINGTON (Reuters) - The head of a conservat...  politicsNews   \n",
       "1  WASHINGTON (Reuters) - Transgender people will...  politicsNews   \n",
       "2  WASHINGTON (Reuters) - The special counsel inv...  politicsNews   \n",
       "3  WASHINGTON (Reuters) - Trump campaign adviser ...  politicsNews   \n",
       "4  SEATTLE/WASHINGTON (Reuters) - President Donal...  politicsNews   \n",
       "\n",
       "                 date  \n",
       "0  December 31, 2017   \n",
       "1  December 29, 2017   \n",
       "2  December 31, 2017   \n",
       "3  December 30, 2017   \n",
       "4  December 29, 2017   "
      ]
     },
     "execution_count": 2,
     "metadata": {},
     "output_type": "execute_result"
    }
   ],
   "source": [
    "dataLimit = 3000\n",
    "\n",
    "trueNews = pd.read_csv(\"./data/True.csv\")[:dataLimit]\n",
    "fakeNews = pd.read_csv(\"./data/Fake.csv\")[:dataLimit]\n",
    "\n",
    "trueNews.head()"
   ]
  },
  {
   "cell_type": "code",
   "execution_count": 3,
   "metadata": {
    "scrolled": true
   },
   "outputs": [
    {
     "data": {
      "text/html": [
       "<div>\n",
       "<style scoped>\n",
       "    .dataframe tbody tr th:only-of-type {\n",
       "        vertical-align: middle;\n",
       "    }\n",
       "\n",
       "    .dataframe tbody tr th {\n",
       "        vertical-align: top;\n",
       "    }\n",
       "\n",
       "    .dataframe thead th {\n",
       "        text-align: right;\n",
       "    }\n",
       "</style>\n",
       "<table border=\"1\" class=\"dataframe\">\n",
       "  <thead>\n",
       "    <tr style=\"text-align: right;\">\n",
       "      <th></th>\n",
       "      <th>title</th>\n",
       "      <th>text</th>\n",
       "      <th>subject</th>\n",
       "      <th>date</th>\n",
       "      <th>is_true</th>\n",
       "    </tr>\n",
       "  </thead>\n",
       "  <tbody>\n",
       "    <tr>\n",
       "      <td>0</td>\n",
       "      <td>U.S.'s Mattis says eyeing provocative Iran act...</td>\n",
       "      <td>WASHINGTON (Reuters) - U.S. Defense Secretary ...</td>\n",
       "      <td>politicsNews</td>\n",
       "      <td>October 13, 2017</td>\n",
       "      <td>1</td>\n",
       "    </tr>\n",
       "    <tr>\n",
       "      <td>1</td>\n",
       "      <td>Trump travel ban on more solid ground as top c...</td>\n",
       "      <td>NEW YORK (Reuters) - The Supreme Court signale...</td>\n",
       "      <td>politicsNews</td>\n",
       "      <td>September 25, 2017</td>\n",
       "      <td>1</td>\n",
       "    </tr>\n",
       "    <tr>\n",
       "      <td>2</td>\n",
       "      <td>British minister hopes condemnation of Trump t...</td>\n",
       "      <td>LONDON (Reuters) - British interior minister A...</td>\n",
       "      <td>politicsNews</td>\n",
       "      <td>November 30, 2017</td>\n",
       "      <td>1</td>\n",
       "    </tr>\n",
       "    <tr>\n",
       "      <td>3</td>\n",
       "      <td>Trump's son Donald Trump Jr. to meet with Hous...</td>\n",
       "      <td>WASHINGTON/NEW YORK (Reuters) - President Dona...</td>\n",
       "      <td>politicsNews</td>\n",
       "      <td>November 29, 2017</td>\n",
       "      <td>1</td>\n",
       "    </tr>\n",
       "    <tr>\n",
       "      <td>4</td>\n",
       "      <td>MAJOR Republican Celebrity Turns On Trump; Fa...</td>\n",
       "      <td>It s not tough to imagine that NASCAR races ha...</td>\n",
       "      <td>News</td>\n",
       "      <td>January 30, 2017</td>\n",
       "      <td>0</td>\n",
       "    </tr>\n",
       "  </tbody>\n",
       "</table>\n",
       "</div>"
      ],
      "text/plain": [
       "                                               title  \\\n",
       "0  U.S.'s Mattis says eyeing provocative Iran act...   \n",
       "1  Trump travel ban on more solid ground as top c...   \n",
       "2  British minister hopes condemnation of Trump t...   \n",
       "3  Trump's son Donald Trump Jr. to meet with Hous...   \n",
       "4   MAJOR Republican Celebrity Turns On Trump; Fa...   \n",
       "\n",
       "                                                text       subject  \\\n",
       "0  WASHINGTON (Reuters) - U.S. Defense Secretary ...  politicsNews   \n",
       "1  NEW YORK (Reuters) - The Supreme Court signale...  politicsNews   \n",
       "2  LONDON (Reuters) - British interior minister A...  politicsNews   \n",
       "3  WASHINGTON/NEW YORK (Reuters) - President Dona...  politicsNews   \n",
       "4  It s not tough to imagine that NASCAR races ha...          News   \n",
       "\n",
       "                  date  is_true  \n",
       "0    October 13, 2017         1  \n",
       "1  September 25, 2017         1  \n",
       "2   November 30, 2017         1  \n",
       "3   November 29, 2017         1  \n",
       "4     January 30, 2017        0  "
      ]
     },
     "execution_count": 3,
     "metadata": {},
     "output_type": "execute_result"
    }
   ],
   "source": [
    "trueNews['is_true'] = 1\n",
    "fakeNews['is_true'] = 0\n",
    "\n",
    "data = pd.concat([trueNews, fakeNews], ignore_index = True)\n",
    "data = data.sample(frac=1).reset_index(drop=True)\n",
    "\n",
    "data.head()"
   ]
  },
  {
   "cell_type": "code",
   "execution_count": 4,
   "metadata": {},
   "outputs": [
    {
     "data": {
      "text/html": [
       "<div>\n",
       "<style scoped>\n",
       "    .dataframe tbody tr th:only-of-type {\n",
       "        vertical-align: middle;\n",
       "    }\n",
       "\n",
       "    .dataframe tbody tr th {\n",
       "        vertical-align: top;\n",
       "    }\n",
       "\n",
       "    .dataframe thead th {\n",
       "        text-align: right;\n",
       "    }\n",
       "</style>\n",
       "<table border=\"1\" class=\"dataframe\">\n",
       "  <thead>\n",
       "    <tr style=\"text-align: right;\">\n",
       "      <th></th>\n",
       "      <th>title</th>\n",
       "      <th>text</th>\n",
       "      <th>subject</th>\n",
       "      <th>date</th>\n",
       "      <th>is_true</th>\n",
       "      <th>all</th>\n",
       "    </tr>\n",
       "  </thead>\n",
       "  <tbody>\n",
       "    <tr>\n",
       "      <td>0</td>\n",
       "      <td>us mattis say eyeing provocative iran action t...</td>\n",
       "      <td>washington reuters u defense secretary mattis ...</td>\n",
       "      <td>politicsNews</td>\n",
       "      <td>October 13, 2017</td>\n",
       "      <td>1</td>\n",
       "      <td>us mattis say eyeing provocative iran action t...</td>\n",
       "    </tr>\n",
       "    <tr>\n",
       "      <td>1</td>\n",
       "      <td>trump travel ban solid ground top court cancel...</td>\n",
       "      <td>new york reuters supreme court signaled monday...</td>\n",
       "      <td>politicsNews</td>\n",
       "      <td>September 25, 2017</td>\n",
       "      <td>1</td>\n",
       "      <td>trump travel ban solid ground top court cancel...</td>\n",
       "    </tr>\n",
       "    <tr>\n",
       "      <td>2</td>\n",
       "      <td>british minister hope condemnation trump tweet...</td>\n",
       "      <td>london reuters british interior minister amber...</td>\n",
       "      <td>politicsNews</td>\n",
       "      <td>November 30, 2017</td>\n",
       "      <td>1</td>\n",
       "      <td>british minister hope condemnation trump tweet...</td>\n",
       "    </tr>\n",
       "    <tr>\n",
       "      <td>3</td>\n",
       "      <td>trump donald trump jr meet house panel dec cnn</td>\n",
       "      <td>washingtonnew york reuters president donald tr...</td>\n",
       "      <td>politicsNews</td>\n",
       "      <td>November 29, 2017</td>\n",
       "      <td>1</td>\n",
       "      <td>trump donald trump jr meet house panel dec cnn...</td>\n",
       "    </tr>\n",
       "    <tr>\n",
       "      <td>4</td>\n",
       "      <td>major republican celebrity turn trump fan shoc...</td>\n",
       "      <td>tough imagine nascar race share donald trump m...</td>\n",
       "      <td>News</td>\n",
       "      <td>January 30, 2017</td>\n",
       "      <td>0</td>\n",
       "      <td>major republican celebrity turn trump fan shoc...</td>\n",
       "    </tr>\n",
       "  </tbody>\n",
       "</table>\n",
       "</div>"
      ],
      "text/plain": [
       "                                               title  \\\n",
       "0  us mattis say eyeing provocative iran action t...   \n",
       "1  trump travel ban solid ground top court cancel...   \n",
       "2  british minister hope condemnation trump tweet...   \n",
       "3     trump donald trump jr meet house panel dec cnn   \n",
       "4  major republican celebrity turn trump fan shoc...   \n",
       "\n",
       "                                                text       subject  \\\n",
       "0  washington reuters u defense secretary mattis ...  politicsNews   \n",
       "1  new york reuters supreme court signaled monday...  politicsNews   \n",
       "2  london reuters british interior minister amber...  politicsNews   \n",
       "3  washingtonnew york reuters president donald tr...  politicsNews   \n",
       "4  tough imagine nascar race share donald trump m...          News   \n",
       "\n",
       "                  date  is_true  \\\n",
       "0    October 13, 2017         1   \n",
       "1  September 25, 2017         1   \n",
       "2   November 30, 2017         1   \n",
       "3   November 29, 2017         1   \n",
       "4     January 30, 2017        0   \n",
       "\n",
       "                                                 all  \n",
       "0  us mattis say eyeing provocative iran action t...  \n",
       "1  trump travel ban solid ground top court cancel...  \n",
       "2  british minister hope condemnation trump tweet...  \n",
       "3  trump donald trump jr meet house panel dec cnn...  \n",
       "4  major republican celebrity turn trump fan shoc...  "
      ]
     },
     "execution_count": 4,
     "metadata": {},
     "output_type": "execute_result"
    }
   ],
   "source": [
    "# text transformation\n",
    "\n",
    "# remove punctuations\n",
    "def remove_punct(text):\n",
    "    text  = \"\".join([char for char in text if char not in string.punctuation])\n",
    "    text = re.sub('[0-9]+', '', text)\n",
    "    return text\n",
    "\n",
    "# remove stop words\n",
    "#nlp.download('stopwords')\n",
    "stopwords = set(nlp.corpus.stopwords.words())\n",
    "def clean_stopwords(text):\n",
    "    result = []\n",
    "    for word in text:\n",
    "        if word not in stopwords:\n",
    "            result.append(word)\n",
    "    return result\n",
    "\n",
    "# lemmatization\n",
    "#nlp.download('wordnet')\n",
    "lemma = nlp.WordNetLemmatizer()\n",
    "def lemmatize(text):\n",
    "    text = [lemma.lemmatize(each) for each in text]\n",
    "    return text\n",
    "\n",
    "# proccess data \n",
    "def process_text(text):\n",
    "    text = text.lower()\n",
    "    text = remove_punct(text)\n",
    "    text = text.split()\n",
    "    text = clean_stopwords(text)\n",
    "    text = lemmatize(text)\n",
    "    return \" \".join(text)\n",
    "\n",
    "data['title'] = data['title'].apply(lambda x: process_text(x))\n",
    "data['text'] = data['text'].apply(lambda x: process_text(x))\n",
    "\n",
    "# create single column\n",
    "data['all'] = data['title'] + \" \" + data['text'] + \" \" + data['subject']\n",
    "    \n",
    "data.head()"
   ]
  },
  {
   "cell_type": "code",
   "execution_count": 5,
   "metadata": {},
   "outputs": [],
   "source": [
    "# vectorization\n",
    "corpus = []\n",
    "for i in range (0,data['all'].count()):\n",
    "    corpus.append(data['all'][i])\n",
    "count = CountVectorizer()\n",
    "x = count.fit_transform(corpus).toarray()"
   ]
  },
  {
   "cell_type": "code",
   "execution_count": 6,
   "metadata": {},
   "outputs": [],
   "source": [
    "values = data['is_true']\n",
    "\n",
    "x_train, x_test, y_train, y_test = train_test_split(x, values, test_size = 0.2)"
   ]
  },
  {
   "cell_type": "code",
   "execution_count": 7,
   "metadata": {},
   "outputs": [
    {
     "name": "stderr",
     "output_type": "stream",
     "text": [
      "D:\\Programy\\Anaconda3\\lib\\site-packages\\sklearn\\linear_model\\logistic.py:432: FutureWarning: Default solver will be changed to 'lbfgs' in 0.22. Specify a solver to silence this warning.\n",
      "  FutureWarning)\n"
     ]
    },
    {
     "data": {
      "text/plain": [
       "LogisticRegression(C=1.0, class_weight=None, dual=False, fit_intercept=True,\n",
       "                   intercept_scaling=1, l1_ratio=None, max_iter=100,\n",
       "                   multi_class='warn', n_jobs=None, penalty='l2',\n",
       "                   random_state=None, solver='warn', tol=0.0001, verbose=0,\n",
       "                   warm_start=False)"
      ]
     },
     "execution_count": 7,
     "metadata": {},
     "output_type": "execute_result"
    }
   ],
   "source": [
    "classifier = LogisticRegression()\n",
    "classifier.fit(x_train,y_train)"
   ]
  },
  {
   "cell_type": "code",
   "execution_count": 8,
   "metadata": {},
   "outputs": [
    {
     "data": {
      "text/plain": [
       "<matplotlib.axes._subplots.AxesSubplot at 0xe9f0942e48>"
      ]
     },
     "execution_count": 8,
     "metadata": {},
     "output_type": "execute_result"
    },
    {
     "data": {
      "image/png": "[encoded data removed]",
      "text/plain": [
       "<Figure size 432x288 with 2 Axes>"
      ]
     },
     "metadata": {
      "needs_background": "light"
     },
     "output_type": "display_data"
    }
   ],
   "source": [
    "y_pred = classifier.predict(x_test)\n",
    "confusionMatrix = confusion_matrix(y_test, y_pred)\n",
    "sns.heatmap(confusionMatrix, annot = True)"
   ]
  },
  {
   "cell_type": "code",
   "execution_count": 9,
   "metadata": {},
   "outputs": [
    {
     "data": {
      "text/plain": [
       "0.9983333333333333"
      ]
     },
     "execution_count": 9,
     "metadata": {},
     "output_type": "execute_result"
    }
   ],
   "source": [
    "accuracy_score(y_test, y_pred)"
   ]
  }
 ],
 "metadata": {
  "kernelspec": {
   "display_name": "Python 3",
   "language": "python",
   "name": "python3"
  },
  "language_info": {
   "codemirror_mode": {
    "name": "ipython",
    "version": 3
   },
   "file_extension": ".py",
   "mimetype": "text/x-python",
   "name": "python",
   "nbconvert_exporter": "python",
   "pygments_lexer": "ipython3",
   "version": "3.7.4"
  }
 },
 "nbformat": 4,
 "nbformat_minor": 2
}
